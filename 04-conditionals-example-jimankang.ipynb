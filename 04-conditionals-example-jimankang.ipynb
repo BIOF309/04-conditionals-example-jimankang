{
 "cells": [
  {
   "cell_type": "markdown",
   "metadata": {},
   "source": [
    "Test1: int--> string to #"
   ]
  },
  {
   "cell_type": "code",
   "execution_count": 2,
   "metadata": {},
   "outputs": [
    {
     "name": "stdout",
     "output_type": "stream",
     "text": [
      "Tell me your age\n",
      "28\n",
      "welcome to the Club\n"
     ]
    }
   ],
   "source": [
    "print(\"Tell me your age\")\n",
    "myage = int(input())\n",
    "if (myage <30):\n",
    "    print(\"Welcome to the Club\")\n",
    "else:\n",
    "    print(\"Oh! No. You are not accepted\")"
   ]
  },
  {
   "cell_type": "markdown",
   "metadata": {},
   "source": [
    "Test2"
   ]
  },
  {
   "cell_type": "code",
   "execution_count": 6,
   "metadata": {},
   "outputs": [
    {
     "name": "stdout",
     "output_type": "stream",
     "text": [
      "Tell me your birth year\n",
      "2015\n",
      "You are not a student or something\n"
     ]
    }
   ],
   "source": [
    "print(\"Tell me your birth year\")\n",
    "birth_year = input()\n",
    "age = 2017-int(birth_year) + 1\n",
    "\n",
    "if age <= 30 and age >=20:\n",
    "    print(\"college\")\n",
    "elif age <20 and age >=17:\n",
    "    print(\"high school\")\n",
    "elif age <17 and age >=14:\n",
    "    print(\"middle school\")\n",
    "elif age <14 and age >=8:\n",
    "    print(\"elementary school\")\n",
    "else:\n",
    "    print(\"You are not a student or something\")\n",
    "    "
   ]
  },
  {
   "cell_type": "code",
   "execution_count": null,
   "metadata": {
    "collapsed": true
   },
   "outputs": [],
   "source": []
  }
 ],
 "metadata": {
  "kernelspec": {
   "display_name": "Python 3",
   "language": "python",
   "name": "python3"
  },
  "language_info": {
   "codemirror_mode": {
    "name": "ipython",
    "version": 3
   },
   "file_extension": ".py",
   "mimetype": "text/x-python",
   "name": "python",
   "nbconvert_exporter": "python",
   "pygments_lexer": "ipython3",
   "version": "3.6.1"
  }
 },
 "nbformat": 4,
 "nbformat_minor": 2
}
